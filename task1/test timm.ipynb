{
 "cells": [
  {
   "cell_type": "code",
   "execution_count": 2,
   "id": "5067e6cf-c4d8-402b-905a-75a0848934a1",
   "metadata": {},
   "outputs": [
    {
     "name": "stdout",
     "output_type": "stream",
     "text": [
      "/opt/anaconda3/envs/hse_appl/bin/pip\n"
     ]
    }
   ],
   "source": [
    "!which pip"
   ]
  },
  {
   "cell_type": "code",
   "execution_count": 26,
   "id": "d7a5e5c3-1249-4ede-8af4-c2d567cfc6c2",
   "metadata": {},
   "outputs": [],
   "source": [
    "import torch\n",
    "import torch.nn.functional as F\n",
    "import timm"
   ]
  },
  {
   "cell_type": "code",
   "execution_count": 67,
   "id": "10579152-202f-4cf5-97e4-a176eb96c55e",
   "metadata": {},
   "outputs": [],
   "source": [
    "x = torch.randn(1,3,480,384)\n",
    "enc = timm.create_model('resnet18', features_only=True)"
   ]
  },
  {
   "cell_type": "code",
   "execution_count": 68,
   "id": "680c18e2-e91b-481c-bcb4-b1a7a799f424",
   "metadata": {},
   "outputs": [],
   "source": [
    "out = enc(x)"
   ]
  },
  {
   "cell_type": "code",
   "execution_count": 46,
   "id": "1b6898f9-2551-40af-871c-0177de255ee8",
   "metadata": {},
   "outputs": [
    {
     "data": {
      "text/plain": [
       "torch.Size([1, 64, 240, 192])"
      ]
     },
     "execution_count": 46,
     "metadata": {},
     "output_type": "execute_result"
    }
   ],
   "source": [
    "out[0].shape"
   ]
  },
  {
   "cell_type": "code",
   "execution_count": 47,
   "id": "ef3035c6-da17-46a0-a971-739bee2cf33d",
   "metadata": {},
   "outputs": [
    {
     "name": "stdout",
     "output_type": "stream",
     "text": [
      "torch.Size([1, 64, 240, 192])\n",
      "torch.Size([1, 64, 120, 96])\n",
      "torch.Size([1, 128, 60, 48])\n",
      "torch.Size([1, 256, 30, 24])\n",
      "torch.Size([1, 512, 15, 12])\n"
     ]
    }
   ],
   "source": [
    "for fm in out:\n",
    "    print(fm.shape)"
   ]
  },
  {
   "cell_type": "code",
   "execution_count": 48,
   "id": "22cf9736-0835-4760-aed7-7021a1be37a6",
   "metadata": {},
   "outputs": [],
   "source": [
    "h1, h2, h3, h4, h5 = out"
   ]
  },
  {
   "cell_type": "code",
   "execution_count": 49,
   "id": "125529fc-889a-4c92-a4e5-664b5e60b4e7",
   "metadata": {},
   "outputs": [
    {
     "data": {
      "text/plain": [
       "torch.Size([1, 512, 15, 12])"
      ]
     },
     "execution_count": 49,
     "metadata": {},
     "output_type": "execute_result"
    }
   ],
   "source": [
    "h5.shape"
   ]
  },
  {
   "cell_type": "code",
   "execution_count": 50,
   "id": "1ca79f9a-a2aa-4d66-8cf8-5188f3230d42",
   "metadata": {},
   "outputs": [
    {
     "data": {
      "text/plain": [
       "torch.Size([1, 256, 30, 24])"
      ]
     },
     "execution_count": 50,
     "metadata": {},
     "output_type": "execute_result"
    }
   ],
   "source": [
    "h4.shape"
   ]
  },
  {
   "cell_type": "code",
   "execution_count": 51,
   "id": "e116fccc-9066-4ccb-8884-429a40cfeb3e",
   "metadata": {},
   "outputs": [],
   "source": [
    "out1 = torch.concatenate([h4, F.interpolate(h5, size=h4.shape[-2:], mode='bilinear')], dim=1)"
   ]
  },
  {
   "cell_type": "code",
   "execution_count": 52,
   "id": "4756b192-20c8-4181-8418-6a9264bd76ef",
   "metadata": {},
   "outputs": [
    {
     "data": {
      "text/plain": [
       "torch.Size([30, 24])"
      ]
     },
     "execution_count": 52,
     "metadata": {},
     "output_type": "execute_result"
    }
   ],
   "source": [
    "h4.shape[-2:]"
   ]
  },
  {
   "cell_type": "code",
   "execution_count": 53,
   "id": "14f3884e-4809-4cd1-b1b6-e6045f778206",
   "metadata": {},
   "outputs": [
    {
     "data": {
      "text/plain": [
       "torch.Size([1, 768, 30, 24])"
      ]
     },
     "execution_count": 53,
     "metadata": {},
     "output_type": "execute_result"
    }
   ],
   "source": [
    "out1.shape"
   ]
  },
  {
   "cell_type": "code",
   "execution_count": 104,
   "id": "68ae91e7-42b7-4f57-9cfb-27ab9333cbcb",
   "metadata": {},
   "outputs": [],
   "source": [
    "encoder = timm.create_model('seresnext26d_32x4d', features_only=True)\n",
    "fm_acts = encoder(torch.randn(1, 3, 480, 384))[:5]"
   ]
  },
  {
   "cell_type": "code",
   "execution_count": 111,
   "id": "03870d08-f288-4b80-839f-c5485fb7fedb",
   "metadata": {},
   "outputs": [
    {
     "data": {
      "text/plain": [
       "5"
      ]
     },
     "execution_count": 111,
     "metadata": {},
     "output_type": "execute_result"
    }
   ],
   "source": [
    "len(encoder(torch.randn(1, 3, 480, 384)))"
   ]
  },
  {
   "cell_type": "code",
   "execution_count": 105,
   "id": "28a4b89d-1470-4f52-a2de-5c52daf33a32",
   "metadata": {},
   "outputs": [
    {
     "data": {
      "text/plain": [
       "3072"
      ]
     },
     "execution_count": 105,
     "metadata": {},
     "output_type": "execute_result"
    }
   ],
   "source": [
    "fm_acts[4].shape[1] + fm_acts[3].shape[1]"
   ]
  },
  {
   "cell_type": "code",
   "execution_count": 106,
   "id": "649bfbb7-dd6d-4773-88aa-ab775a189157",
   "metadata": {},
   "outputs": [
    {
     "data": {
      "text/plain": [
       "768"
      ]
     },
     "execution_count": 106,
     "metadata": {},
     "output_type": "execute_result"
    }
   ],
   "source": [
    "256 + fm_acts[2].shape[1]"
   ]
  },
  {
   "cell_type": "code",
   "execution_count": 107,
   "id": "6a5c8005-4bb7-412d-ac65-a43def3c08ee",
   "metadata": {},
   "outputs": [
    {
     "data": {
      "text/plain": [
       "384"
      ]
     },
     "execution_count": 107,
     "metadata": {},
     "output_type": "execute_result"
    }
   ],
   "source": [
    "128 + fm_acts[1].shape[1]"
   ]
  },
  {
   "cell_type": "code",
   "execution_count": 108,
   "id": "9ae82835-457c-4ba5-b2d9-1c32c5ff1517",
   "metadata": {},
   "outputs": [
    {
     "data": {
      "text/plain": [
       "128"
      ]
     },
     "execution_count": 108,
     "metadata": {},
     "output_type": "execute_result"
    }
   ],
   "source": [
    "64 + fm_acts[0].shape[1]"
   ]
  },
  {
   "cell_type": "code",
   "execution_count": 109,
   "id": "5b45a6ed-a1c8-47a5-999f-160b7b9cb483",
   "metadata": {},
   "outputs": [],
   "source": [
    "from datetime import datetime"
   ]
  },
  {
   "cell_type": "code",
   "execution_count": 103,
   "id": "0cdb892f-72f0-4d68-97a6-89febb1642f4",
   "metadata": {},
   "outputs": [
    {
     "data": {
      "text/plain": [
       "'2024-04-25 08:47:18.545106'"
      ]
     },
     "execution_count": 103,
     "metadata": {},
     "output_type": "execute_result"
    }
   ],
   "source": [
    "f'{datetime.now()}'"
   ]
  },
  {
   "cell_type": "code",
   "execution_count": null,
   "id": "a5c0e45c-1161-43ba-a978-438f05b6f177",
   "metadata": {},
   "outputs": [],
   "source": []
  }
 ],
 "metadata": {
  "kernelspec": {
   "display_name": "Python 3 (ipykernel)",
   "language": "python",
   "name": "python3"
  },
  "language_info": {
   "codemirror_mode": {
    "name": "ipython",
    "version": 3
   },
   "file_extension": ".py",
   "mimetype": "text/x-python",
   "name": "python",
   "nbconvert_exporter": "python",
   "pygments_lexer": "ipython3",
   "version": "3.12.3"
  }
 },
 "nbformat": 4,
 "nbformat_minor": 5
}
